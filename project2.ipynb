{
 "cells": [
  {
   "cell_type": "code",
   "execution_count": 354,
   "id": "a48700ea-b96e-41df-9384-94c21714f0ca",
   "metadata": {},
   "outputs": [],
   "source": [
    "import pandas as pd\n",
    "import math\n",
    "import datetime\n",
    "from datetime import datetime\n",
    "from datetime import date\n",
    "from sklearn.decomposition import PCA\n",
    "from sklearn.svm import SVC\n",
    "from sklearn.model_selection import train_test_split\n",
    "import matplotlib.pyplot as plt\n",
    "from numpy import loadtxt\n",
    "from keras.models import Sequential\n",
    "from keras.layers import Dense\n",
    "import numpy as np\n",
    "import pickle\n",
    "from datetime import timedelta"
   ]
  },
  {
   "cell_type": "code",
   "execution_count": 355,
   "id": "d27f41de-9e73-45e4-a713-d4d63f6accf7",
   "metadata": {},
   "outputs": [
    {
     "name": "stdout",
     "output_type": "stream",
     "text": [
      "[-0.587726  5.10592 ]\n"
     ]
    }
   ],
   "source": [
    "mat_training_0 = loadtxt(\"Train1.txt\", delimiter=\"  \", unpack=False)\n",
    "mat_training_1 = loadtxt(\"Train2.txt\", delimiter=\"  \", unpack=False)\n",
    "mat_testing_0 = loadtxt(\"Test1.txt\", delimiter=\"  \", unpack=False)\n",
    "mat_testing_1 = loadtxt(\"Test2.txt\", delimiter=\"  \", unpack=False)\n",
    "\n",
    "#only has two features and can add more by concatenation and is to test a example model\n",
    "X_train = np.concatenate((mat_training_0,mat_training_1), axis=0)\n",
    "\n",
    "print(X_train[0])\n",
    "X_test = np.concatenate((mat_testing_0,mat_testing_1), axis=0)"
   ]
  },
  {
   "cell_type": "code",
   "execution_count": 356,
   "id": "1fc32074-366e-4048-93c4-f434896cd202",
   "metadata": {},
   "outputs": [],
   "source": [
    "labels_0_tr = np.array([1]*mat_training_0.shape[0])\n",
    "labels_1_tr = np.array([2]*mat_training_1.shape[0])\n",
    "labels_0_te = np.array([1]*mat_testing_0.shape[0])\n",
    "labels_1_te = np.array([2]*mat_testing_1.shape[0])\n",
    "\n",
    "#the testing classes are grouped under one vector\n",
    "y_test = np.concatenate((labels_0_te,labels_1_te), axis=0)\n",
    "y_train = np.concatenate((labels_0_tr,labels_1_tr), axis=0)"
   ]
  },
  {
   "cell_type": "code",
   "execution_count": 357,
   "id": "a6765f09-1409-48bc-b59d-c1b87a6e122b",
   "metadata": {},
   "outputs": [
    {
     "name": "stdout",
     "output_type": "stream",
     "text": [
      "score 0.829\n"
     ]
    }
   ],
   "source": [
    "#  Data=[list1,list2]\n",
    "#  X = Data[0]\n",
    "#  y = Data[1],\n",
    "#X = [[0, 0], [1, 1]]\n",
    "#y = [0, 1] \n",
    "#y = [0,0,0,0,0]\n",
    "\n",
    "#X_train, X_test, y_train, y_test = train_test_split(X, y, test_size=.43, random_state=0)\n",
    "pca = PCA(n_components=2)# adjust yourself\n",
    "pca.fit(X_train)\n",
    "pca.fit(X_test)\n",
    "\n",
    "\n",
    "X_t_train = pca.transform(X_train)\n",
    "X_t_test = pca.transform(X_test)\n",
    "\n",
    "clf = SVC()\n",
    "clf.fit(X_t_train, y_train)\n",
    "print('score', clf.score(X_t_test, y_test))\n",
    "#print('pred label', clf.predict(X_t_test))\n",
    "\n",
    "with open ('model_pickle', 'wb') as filename:\n",
    "   pickle.dump(clf,filename)"
   ]
  },
  {
   "cell_type": "code",
   "execution_count": 358,
   "id": "7e4cd926-186c-4952-9427-88e49a9725d9",
   "metadata": {},
   "outputs": [],
   "source": [
    "with open ('model_pickle', 'rb') as filename:\n",
    "   modelRetrieved = pickle.load(filename)"
   ]
  },
  {
   "cell_type": "code",
   "execution_count": 359,
   "id": "190dad95-8506-4597-b4a1-104a590cda49",
   "metadata": {},
   "outputs": [
    {
     "name": "stdout",
     "output_type": "stream",
     "text": [
      "score 0.829\n"
     ]
    }
   ],
   "source": [
    "modelRetrieved.fit(X_t_train, y_train)\n",
    "print('score', modelRetrieved.score(X_t_test, y_test))"
   ]
  },
  {
   "cell_type": "code",
   "execution_count": 360,
   "id": "44106472-db11-4172-b5fa-059f27906daa",
   "metadata": {},
   "outputs": [],
   "source": [
    "def formatDateTimeCGM(CGMData):\n",
    "    \n",
    "    formattedArray = []\n",
    "    \n",
    "    for i in CGMData:\n",
    "            \n",
    "        upperYear = i[0][0][0]\n",
    "        upperMonth = i[0][0][1]\n",
    "        upperDay = i[0][0][2]\n",
    "\n",
    "        upperHour = i[0][1][0]\n",
    "        upperMinute = i[0][1][1]\n",
    "        upperSecond = i[0][1][2]\n",
    "        \n",
    "        date_2 = str(upperDay) + '/'+ str(upperMonth) +'/'+ str(upperYear) + ' ' +str(upperHour)+':'+ str(upperMinute)+':'+ str(upperSecond)\n",
    "        date_format_str = '%d/%m/%Y %H:%M:%S'\n",
    "        start = datetime.strptime(date_2, date_format_str)\n",
    "        formattedArray.append([start,i[1],i[2]])\n",
    "        \n",
    "\n",
    "    return formattedArray\n",
    "        \n"
   ]
  },
  {
   "cell_type": "code",
   "execution_count": 361,
   "id": "cf10780c-3b96-4037-9eef-f4656087f1f2",
   "metadata": {},
   "outputs": [],
   "source": [
    "def ReadXlsx(CGM,Insulin):\n",
    "    \n",
    "    #creating the matrix with labels below\n",
    "    filename1 = pd.read_excel(CGM)\n",
    "    filename2 = pd.read_excel(Insulin)\n",
    "    #print(filename2.Index[0])\n",
    "    CGMData_pre = []\n",
    "    InsulinData_pre = []\n",
    "\n",
    "    eatingBehavior = filename1['Sensor Glucose (mg/dL)'].to_numpy()\n",
    "    ISIG = filename1['ISIG Value'].to_numpy()\n",
    "    CGMDate = filename1['Date'].to_numpy()\n",
    "    CGMTime = filename1['Time'].to_numpy()\n",
    "\n",
    "\n",
    "    Eats =  filename2['BWZ Carb Input (grams)'].to_numpy()\n",
    "    InsulinDate = filename2['Date'].to_numpy()\n",
    "    InsulinTime = filename2['Time'].to_numpy()\n",
    "    \n",
    "    InsulinTimeAfter = []\n",
    "    for i in InsulinTime:\n",
    "        arr = []\n",
    "        arr.append(int(str(i).split(':',3)[0]))\n",
    "        arr.append(int(str(i).split(':',3)[1]))\n",
    "        arr.append(int(str(i).split(':',3)[2]))\n",
    "        InsulinTimeAfter.append(arr)\n",
    "    CGMTimeAfter = []\n",
    "    for i in CGMTime:\n",
    "        arr = []\n",
    "        arr.append(int(str(i).split(':',3)[0]))\n",
    "        arr.append(int(str(i).split(':',3)[1]))\n",
    "        arr.append(int(str(i).split(':',3)[2]))\n",
    "        CGMTimeAfter.append(arr)\n",
    "\n",
    "\n",
    "    InsulinDateAfter = []\n",
    "    for i in InsulinDate:\n",
    "        arr = []\n",
    "        var = pd.to_datetime(i)\n",
    "        q= str(var).split()\n",
    "        arr.append(int(q[0].split('-',3)[0]))\n",
    "        arr.append(int(q[0].split('-',3)[1]))\n",
    "        arr.append(int(q[0].split('-',3)[2]))\n",
    "        InsulinDateAfter.append(arr)\n",
    "\n",
    "\n",
    "    CGMDateAfter = []\n",
    "    for i in CGMDate:\n",
    "        arr = []\n",
    "        var = pd.to_datetime(i)\n",
    "        q= str(var).split()\n",
    "        arr.append(int(q[0].split('-',3)[0]))\n",
    "        arr.append(int(q[0].split('-',3)[1]))\n",
    "        arr.append(int(q[0].split('-',3)[2]))\n",
    "        CGMDateAfter.append(arr)\n",
    "    \n",
    "    \n",
    "    DateandTime = []\n",
    "    for i in range(0, len(InsulinDateAfter),1):\n",
    "        arr = []\n",
    "        arr.append(InsulinDateAfter[i])\n",
    "        arr.append(InsulinTimeAfter[i])\n",
    "        DateandTime.append(arr)\n",
    "\n",
    "\n",
    "    CGMDateandTime = []\n",
    "    for i in range(0, len(CGMDateAfter),1):\n",
    "        arr = []\n",
    "        arr.append(CGMDateAfter[i])\n",
    "        arr.append(CGMTimeAfter[i])\n",
    "        CGMDateandTime.append(arr)\n",
    "    \n",
    "  \n",
    "    \n",
    "    DateAndFood = []\n",
    "    for i in range(0, len(DateandTime),1):\n",
    "        arr = []\n",
    "        arr.append(DateandTime[i])\n",
    "        arr.append(Eats[i])\n",
    "        DateAndFood.append(arr)\n",
    "\n",
    "    DateAndFood = DateAndFood[::-1]\n",
    "\n",
    "\n",
    "    CGMDateAndFood = []\n",
    "    for i in range(0, len(CGMDateandTime),1):\n",
    "        arr = []\n",
    "        arr.append(CGMDateandTime[i])\n",
    "        arr.append(eatingBehavior[i])\n",
    "        arr.append(ISIG[i])\n",
    "        CGMDateAndFood.append(arr)\n",
    "\n",
    "    CGMDateAndFood = CGMDateAndFood[::-1]\n",
    "    \n",
    "    DataClean = []\n",
    "    for i in DateAndFood:\n",
    "        arr = []\n",
    "        empty = math.isnan(i[1])\n",
    "        if i[1] > 0 and empty == False:\n",
    "            arr.append(i[0])\n",
    "            arr.append(i[1])  \n",
    "            DataClean.append(arr)\n",
    "            \n",
    "            \n",
    "    CGMDateAndFood = formatDateTimeCGM(CGMDateAndFood)\n",
    "            \n",
    "    return DataClean, CGMDateAndFood"
   ]
  },
  {
   "cell_type": "code",
   "execution_count": 362,
   "id": "23f43440-1fd8-4c82-90d9-eb371bc38805",
   "metadata": {},
   "outputs": [],
   "source": [
    "def separateDate(Data,Data1,disregard,keep, mealData, noMealData):\n",
    "    \n",
    "    diff_in_hours = 0\n",
    "        \n",
    "    lowerYear = Data[0][0]\n",
    "    lowerMonth = Data[0][1]\n",
    "    lowerDay = Data[0][2]\n",
    "    \n",
    "        \n",
    "    lowerHour = Data[1][0]\n",
    "    lowerMinute = Data[1][1]\n",
    "    lowerSecond = Data[1][2]\n",
    "    \n",
    "    upperYear = Data1[0][0]\n",
    "    upperMonth = Data1[0][1]\n",
    "    upperDay = Data1[0][2]\n",
    "        \n",
    "    upperHour = Data1[1][0]\n",
    "    upperMinute = Data1[1][1]\n",
    "    upperSecond = Data1[1][2]\n",
    "        \n",
    "    date_1 = str(lowerDay) + '/'+ str(lowerMonth) +'/'+ str(lowerYear) + ' ' +str(lowerHour)+':'+ str(lowerMinute)+':'+ str(lowerSecond)\n",
    "    date_2 = str(upperDay) + '/'+ str(upperMonth) +'/'+ str(upperYear) + ' ' +str(upperHour)+':'+ str(upperMinute)+':'+ str(upperSecond)\n",
    "    date_format_str = '%d/%m/%Y %H:%M:%S'\n",
    "    \n",
    "        \n",
    "    start = datetime.strptime(date_1, date_format_str)\n",
    "    end =   datetime.strptime(date_2, date_format_str)\n",
    "    # Get interval between two timstamps as timedelta object\n",
    "    diff = end - start\n",
    "    # Get interval between two timstamps in hours\n",
    "    diff_in_hours = diff.total_seconds() / 3600\n",
    "    \n",
    "    \n",
    "    # The dates and times must be added and subtracted for these ranges\n",
    "    # with the other file for creating regions of values above and below the\n",
    "    # modfied EatingData datetime\n",
    "    \n",
    "    #rule 1 of meal\n",
    "    #rule no meal rule\n",
    "    #no meal time after the first two hours and 30 minutes before the next meal\n",
    "   \n",
    "        \n",
    "    if diff_in_hours < 2:\n",
    "\n",
    "            disregard.append(True)\n",
    "    \n",
    "    else:\n",
    "        \n",
    "            disregard.append(False)\n",
    "\n",
    "            if diff_in_hours == 2:\n",
    "\n",
    "                keep.append(True)\n",
    "                \n",
    "            else:\n",
    "                \n",
    "                keep.append(False)\n",
    "\n",
    "    \n",
    "    \n",
    "    \n",
    "    if (diff_in_hours > 2 and disregard[-2] == False) or keep[-2] == True:\n",
    "        mealData.append(Data)\n",
    "        \n",
    "    if diff_in_hours > 2 and keep[-2] == False:\n",
    "        noMealData.append(Data)\n",
    "        \n",
    "    if diff_in_hours == 2 and disregard[-2] == False:\n",
    "        mealData.append(Data)\n",
    "\n",
    "        "
   ]
  },
  {
   "cell_type": "code",
   "execution_count": 363,
   "id": "f4cdab45-035f-4ea8-b53f-595b5078d947",
   "metadata": {},
   "outputs": [],
   "source": [
    "def Trainer(array1, array0):\n",
    "    \n",
    "    array0 = np.array(array0)\n",
    "    array1 = np.array(array1)\n",
    "\n",
    "    X_train = np.concatenate((array0,array1), axis=0)\n",
    "\n",
    "\n",
    "    labels_0_tr = np.array([0]*array0.shape[0])\n",
    "    labels_1_tr = np.array([1]*array1.shape[0])\n",
    "\n",
    "    #the testing classes are grouped under one vector\n",
    "    y_train = np.concatenate((labels_0_tr,labels_1_tr), axis=0)\n",
    "    \n",
    "    \n",
    "    X_train, X_test, y_train, y_test = train_test_split(X_train, y_train, test_size=.25)\n",
    "\n",
    "\n",
    "    pca = PCA(n_components=10)# adjust yourself\n",
    "    pca.fit(X_train)\n",
    "    pca.fit(X_test)\n",
    "\n",
    "\n",
    "    X_t_train = pca.transform(X_train)\n",
    "    X_t_test = pca.transform(X_test)\n",
    "\n",
    "    clf = SVC(kernel='rbf')\n",
    "        \n",
    "    clf.fit(X_t_train, y_train)\n",
    "    #print('score', clf.score(X_t_test, y_test))\n",
    "    #print('pred label', clf.predict(X_t_test))\n",
    "        \n",
    "    with open ('model_pickle', 'wb') as filename:\n",
    "        pickle.dump(clf,filename)\n",
    "        \n",
    " \n",
    "        \n",
    "        meanTrainingAccuracy = 0\n",
    "        meanTestingAccuracy = 0\n",
    "        \n",
    "        for i in range(1,10,1):\n",
    "            meanTrainingAccuracy += clf.score(X_t_train, y_train)\n",
    "            meanTestingAccuracy += clf.score(X_t_test, y_test)\n",
    "            #print('pred label', modelRetrieved.predict(X_t_test))\n",
    "\n",
    "        print(meanTrainingAccuracy/i,i)\n",
    "        print(meanTestingAccuracy/i)"
   ]
  },
  {
   "cell_type": "code",
   "execution_count": 364,
   "id": "9f14838b-b036-449f-b862-85144a70d1d2",
   "metadata": {},
   "outputs": [],
   "source": [
    "def trimDates(Data,deltaHoursLower,deltaHoursUpper):\n",
    "    \n",
    "    dataShift = []\n",
    "        \n",
    "    for i in Data:\n",
    "    \n",
    "        lowerYear = i[0][0]\n",
    "        lowerMonth = i[0][1]\n",
    "        lowerDay = i[0][2]    \n",
    "\n",
    "        lowerHour = i[1][0]\n",
    "        lowerMinute = i[1][1]\n",
    "        lowerSecond = i[1][2]\n",
    "\n",
    "        date_1 = str(lowerDay) + '/'+ str(lowerMonth) +'/'+ str(lowerYear) + ' ' +str(lowerHour)+':'+ str(lowerMinute)+':'+ str(lowerSecond)\n",
    "        date_format_str = '%d/%m/%Y %H:%M:%S'\n",
    "\n",
    "        start = datetime.strptime(date_1, date_format_str)\n",
    "\n",
    "        lowerTime = start + timedelta(hours=deltaHoursLower)\n",
    "        upperTime = start + timedelta(hours=deltaHoursUpper)\n",
    "\n",
    "        dataShift.append([lowerTime,upperTime])\n",
    "        \n",
    "    return dataShift\n"
   ]
  },
  {
   "cell_type": "code",
   "execution_count": 365,
   "id": "30c5a80e-7e7f-4874-b3ae-d2200a56addb",
   "metadata": {},
   "outputs": [],
   "source": [
    "DataClean, CGMDateAndFood= ReadXlsx('CGMData670GPatient3.xlsx','InsulinAndMealIntake670GPatient3.xlsx')"
   ]
  },
  {
   "cell_type": "code",
   "execution_count": 366,
   "id": "906e8bc6-de16-478e-86e5-767a4b1026c6",
   "metadata": {},
   "outputs": [
    {
     "name": "stdout",
     "output_type": "stream",
     "text": [
      "[datetime.datetime(2017, 9, 5, 10, 46, 21), 182.0, 30.61]\n"
     ]
    }
   ],
   "source": [
    "print(CGMDateAndFood[0])"
   ]
  },
  {
   "cell_type": "code",
   "execution_count": 367,
   "id": "8f4d31f5-43d0-4829-80f6-f6cdc5ffa59c",
   "metadata": {},
   "outputs": [],
   "source": [
    "disregard = [False]\n",
    "keep = [False]\n",
    "mealData = []\n",
    "noMealData = []\n",
    "\n",
    "\n",
    "for i in range(0, len(DataClean), 1):\n",
    "    \n",
    "    if i < len(DataClean) - 1:\n",
    "        separateDate(DataClean[i][0],DataClean[i+1][0],disregard,keep, mealData, noMealData)\n",
    "            "
   ]
  },
  {
   "cell_type": "code",
   "execution_count": 368,
   "id": "9dea3093-7e7e-4097-8988-3b0ccafa9f6f",
   "metadata": {},
   "outputs": [],
   "source": [
    "meals = trimDates(mealData,0,2)\n",
    "noMeals = trimDates(noMealData,2,4)"
   ]
  },
  {
   "cell_type": "code",
   "execution_count": 369,
   "id": "08902eaf-fd8a-47d9-b3fd-7e10c50b2c55",
   "metadata": {},
   "outputs": [
    {
     "name": "stdout",
     "output_type": "stream",
     "text": [
      "[datetime.datetime(2017, 9, 5, 10, 46, 21), 182.0, 30.61]\n",
      "[datetime.datetime(2017, 9, 5, 13, 14, 52), datetime.datetime(2017, 9, 5, 15, 14, 52)]\n",
      "[datetime.datetime(2017, 9, 5, 15, 14, 52), datetime.datetime(2017, 9, 5, 17, 14, 52)]\n"
     ]
    }
   ],
   "source": [
    "print(CGMDateAndFood[0])\n",
    "print(meals[0])\n",
    "print(noMeals[0])"
   ]
  },
  {
   "cell_type": "code",
   "execution_count": 370,
   "id": "169172b2-b1e7-4e53-9fc9-435cfc63b972",
   "metadata": {},
   "outputs": [
    {
     "name": "stdout",
     "output_type": "stream",
     "text": [
      "383\n",
      "403\n"
     ]
    }
   ],
   "source": [
    "print(len(meals))\n",
    "print(len(noMeals))"
   ]
  },
  {
   "cell_type": "code",
   "execution_count": 371,
   "id": "95a7dcdd-25ad-49c2-b822-e583d100cf75",
   "metadata": {},
   "outputs": [],
   "source": [
    "def dataForFeatures(featureSpace, LabelRange):\n",
    "    \n",
    "    array = []\n",
    "    \n",
    "    for i in LabelRange:\n",
    "        \n",
    "        lower = i[0]\n",
    "        upper = i[1]\n",
    "        \n",
    "        for j in featureSpace:\n",
    "            \n",
    "            if j[0] >= lower and j[0] <= upper:\n",
    "                \n",
    "                array.append(j)\n",
    "                \n",
    "    return array"
   ]
  },
  {
   "cell_type": "code",
   "execution_count": 372,
   "id": "00367767-e287-482d-a77e-302cfcca2518",
   "metadata": {},
   "outputs": [],
   "source": [
    "mealpreFeatureData = dataForFeatures(CGMDateAndFood, meals)\n",
    "noMealpreFeatureData = dataForFeatures(CGMDateAndFood, noMeals)"
   ]
  },
  {
   "cell_type": "code",
   "execution_count": 373,
   "id": "4a3293c4-449b-4562-b6c8-6686883c9976",
   "metadata": {},
   "outputs": [
    {
     "name": "stdout",
     "output_type": "stream",
     "text": [
      "8268\n",
      "8741\n"
     ]
    }
   ],
   "source": [
    "print(len(mealpreFeatureData))\n",
    "print(len(noMealpreFeatureData))"
   ]
  },
  {
   "cell_type": "code",
   "execution_count": null,
   "id": "bdcb7165-a2d3-4a89-9e45-fc96c00c24ce",
   "metadata": {},
   "outputs": [],
   "source": []
  },
  {
   "cell_type": "code",
   "execution_count": null,
   "id": "d6f11e03-c251-44ad-9e84-8af6ee253ef2",
   "metadata": {},
   "outputs": [],
   "source": []
  }
 ],
 "metadata": {
  "kernelspec": {
   "display_name": "Python 3",
   "language": "python",
   "name": "python3"
  },
  "language_info": {
   "codemirror_mode": {
    "name": "ipython",
    "version": 3
   },
   "file_extension": ".py",
   "mimetype": "text/x-python",
   "name": "python",
   "nbconvert_exporter": "python",
   "pygments_lexer": "ipython3",
   "version": "3.8.8"
  }
 },
 "nbformat": 4,
 "nbformat_minor": 5
}

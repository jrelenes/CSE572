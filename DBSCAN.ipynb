{
 "cells": [
  {
   "cell_type": "code",
   "execution_count": 58,
   "id": "7214ac19-d3ff-4740-8841-99b669e68b32",
   "metadata": {},
   "outputs": [],
   "source": [
    "from sklearn import datasets\n",
    "from sklearn.cluster import KMeans\n",
    "from sklearn.cluster import DBSCAN\n",
    "import numpy as np\n",
    "\n",
    "#cosine similarity\n",
    "#http://www.minerazzi.com/tools/cosine-similarity/cosine-similarity-calculator.php\n",
    "\n",
    "#min \"single linakege\",max \"complete linkage\",average linkage\n",
    "#https://people.revoledu.com/kardi/tutorial/Clustering/Online-Hierarchical-Clustering.html"
   ]
  },
  {
   "cell_type": "code",
   "execution_count": 59,
   "id": "2df4842f-bf48-4b21-9366-f9a5c54da337",
   "metadata": {},
   "outputs": [],
   "source": [
    "# Configuration options\n",
    "#num_samples_total = 1000\n",
    "#cluster_centers = [(3,3), (7,7)]\n",
    "#num_classes = len(cluster_centers)\n",
    "epsilon = 3.0\n",
    "min_samples = 2"
   ]
  },
  {
   "cell_type": "code",
   "execution_count": 61,
   "id": "4f25d597-3fb8-4ca0-9f7a-b54ec21f864b",
   "metadata": {},
   "outputs": [],
   "source": [
    "#X = np.array([[1, 2], [2, 2], [2, 3], [8, 7], [8, 8], [25, 80]])\n",
    "X = np.array([[0, 9,3,6,11], [9, 0,7,5,10], [3, 7,0,9,2], [6, 5,9,0,8], [11, 10,2,8,0]])"
   ]
  },
  {
   "cell_type": "code",
   "execution_count": 62,
   "id": "e6d75970-bbe5-4441-add5-2e450209770f",
   "metadata": {},
   "outputs": [],
   "source": [
    "db = DBSCAN(eps=epsilon, min_samples=min_samples,metric='euclidean').fit(X)"
   ]
  },
  {
   "cell_type": "code",
   "execution_count": 63,
   "id": "df2db595-d01f-455e-8d6b-85b085c6b9c1",
   "metadata": {},
   "outputs": [],
   "source": [
    "labels = db.labels_"
   ]
  },
  {
   "cell_type": "code",
   "execution_count": 64,
   "id": "38f3c417-2a3e-4e62-b11c-5e12ba78cc9f",
   "metadata": {},
   "outputs": [],
   "source": [
    "no_clusters = len(np.unique(labels) )\n",
    "no_noise = np.sum(np.array(labels) == -1, axis=0)"
   ]
  },
  {
   "cell_type": "code",
   "execution_count": 65,
   "id": "ba7e6449-d33e-43fe-9bbd-127997d91af4",
   "metadata": {},
   "outputs": [
    {
     "name": "stdout",
     "output_type": "stream",
     "text": [
      "Estimated no. of clusters: 1\n",
      "Estimated no. of noise points: 5\n"
     ]
    }
   ],
   "source": [
    "print('Estimated no. of clusters: %d' % no_clusters)\n",
    "print('Estimated no. of noise points: %d' % no_noise)"
   ]
  },
  {
   "cell_type": "code",
   "execution_count": 66,
   "id": "3b5b5da7-28a8-4823-ae63-4a43e43aaa40",
   "metadata": {},
   "outputs": [
    {
     "name": "stdout",
     "output_type": "stream",
     "text": [
      "[-1 -1 -1 -1 -1]\n"
     ]
    }
   ],
   "source": [
    "print(labels)"
   ]
  },
  {
   "cell_type": "code",
   "execution_count": 57,
   "id": "be997d22-abae-4aa0-b6bf-f2b387cdbf29",
   "metadata": {},
   "outputs": [],
   "source": [
    "#score = silhouette_score(X, labels, metric='euclidean')\n",
    "#\n",
    "# Print the score\n",
    "#\n",
    "#print('Silhouetter Score: %.3f' % score)"
   ]
  },
  {
   "cell_type": "code",
   "execution_count": null,
   "id": "3c234d23-6861-4431-870d-90046f26dbde",
   "metadata": {},
   "outputs": [],
   "source": []
  },
  {
   "cell_type": "code",
   "execution_count": null,
   "id": "fc395dda-bef1-4725-b024-d5867590d762",
   "metadata": {},
   "outputs": [],
   "source": []
  },
  {
   "cell_type": "code",
   "execution_count": null,
   "id": "66c8025f-a3e0-49de-a56d-34919ed3d0e9",
   "metadata": {},
   "outputs": [],
   "source": []
  }
 ],
 "metadata": {
  "kernelspec": {
   "display_name": "Python 3",
   "language": "python",
   "name": "python3"
  },
  "language_info": {
   "codemirror_mode": {
    "name": "ipython",
    "version": 3
   },
   "file_extension": ".py",
   "mimetype": "text/x-python",
   "name": "python",
   "nbconvert_exporter": "python",
   "pygments_lexer": "ipython3",
   "version": "3.8.8"
  }
 },
 "nbformat": 4,
 "nbformat_minor": 5
}

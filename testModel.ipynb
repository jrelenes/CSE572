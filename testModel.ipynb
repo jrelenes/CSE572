{
 "cells": [
  {
   "cell_type": "code",
   "execution_count": 13,
   "id": "625d5a6d-9425-4124-8901-4c5a3a58e529",
   "metadata": {},
   "outputs": [],
   "source": [
    "import csv\n",
    "from csv import reader\n",
    "import datetime\n",
    "import pickle\n"
   ]
  },
  {
   "cell_type": "code",
   "execution_count": 73,
   "id": "276fcc48-c9b7-4c35-bc05-e32ca362765b",
   "metadata": {},
   "outputs": [],
   "source": [
    "def ReadXlsx(CGM,Insulin):\n",
    "    \n",
    "    #creating the matrix with labels below\n",
    "    filename1 = open('CGMData.csv','r')\n",
    "    CGMData = csv.DictReader(filename1)\n",
    "    \n",
    "    #print(filename2.Index[0])\n",
    "    CGMData_pre = []\n",
    "    \n",
    "    for col in CGMData:\n",
    "        row = []\n",
    "        row.append(col['Sensor Glucose (mg/dL)'])\n",
    "        row.append(col['ISIG Value'])\n",
    "        CGMData_pre.append(row)    \n",
    "\n",
    "    CGMDataReversed = CGMData_pre[::-1]\n",
    "            \n",
    "    return CGMDataReversed"
   ]
  },
  {
   "cell_type": "code",
   "execution_count": 74,
   "id": "2dbb1e92-4fe9-427b-a66d-00414716886e",
   "metadata": {},
   "outputs": [],
   "source": [
    "testData = ReadXlsx('CGMData.csv','InsulinData.csv')"
   ]
  },
  {
   "cell_type": "code",
   "execution_count": 107,
   "id": "19647e08-a9b4-4a54-a51a-49d7a79d18ad",
   "metadata": {},
   "outputs": [],
   "source": [
    "def removeEmpty(meal):\n",
    "    \n",
    "    array = []\n",
    "    for i in meal:\n",
    "        temp = i[0]\n",
    "        temp1 = i[1]\n",
    "\n",
    "        if temp and temp1:\n",
    "            arr = []\n",
    "            arr.append(float(i[0]))\n",
    "            arr.append(float(i[1]))\n",
    "            array.append(arr)\n",
    "            \n",
    "    return array"
   ]
  },
  {
   "cell_type": "code",
   "execution_count": 108,
   "id": "4f667ebe-bdd1-428e-8151-7eb64d40a1b4",
   "metadata": {},
   "outputs": [],
   "source": [
    "array = removeEmpty(testData)"
   ]
  },
  {
   "cell_type": "code",
   "execution_count": 110,
   "id": "4529d5cb-6db9-4685-b705-fc5533a32f2b",
   "metadata": {},
   "outputs": [
    {
     "name": "stdout",
     "output_type": "stream",
     "text": [
      "[314.0, 43.57]\n"
     ]
    }
   ],
   "source": [
    "print(array[0])"
   ]
  },
  {
   "cell_type": "code",
   "execution_count": 119,
   "id": "e5990337-c3b8-40c9-a741-25d4746fba71",
   "metadata": {},
   "outputs": [],
   "source": [
    "def Tester(array):\n",
    "    \n",
    "    array = np.array(array)\n",
    "    X_test = array\n",
    "\n",
    "    pca = PCA(n_components=2)# adjust yourself\n",
    "    pca.fit(X_test)\n",
    "\n",
    "\n",
    "    X_t_test = pca.transform(X_test)\n",
    "\n",
    "    \n",
    "    with open ('model_pickle', 'rb') as filename:\n",
    "        modelRetrieved = pickle.load(filename)\n",
    "        prediction = modelRetrieved.predict(X_t_test)\n",
    "        print('pred label', prediction)\n",
    "        print(len(prediction))"
   ]
  },
  {
   "cell_type": "code",
   "execution_count": 120,
   "id": "d58723ba-1971-473c-b947-04b8057910d2",
   "metadata": {},
   "outputs": [
    {
     "name": "stdout",
     "output_type": "stream",
     "text": [
      "pred label [1 1 1 ... 1 1 1]\n",
      "51175\n"
     ]
    }
   ],
   "source": [
    "Tester(array)"
   ]
  },
  {
   "cell_type": "code",
   "execution_count": null,
   "id": "1ad21f62-069d-444f-bcc4-d70ab6fa30aa",
   "metadata": {},
   "outputs": [],
   "source": []
  }
 ],
 "metadata": {
  "kernelspec": {
   "display_name": "Python 3",
   "language": "python",
   "name": "python3"
  },
  "language_info": {
   "codemirror_mode": {
    "name": "ipython",
    "version": 3
   },
   "file_extension": ".py",
   "mimetype": "text/x-python",
   "name": "python",
   "nbconvert_exporter": "python",
   "pygments_lexer": "ipython3",
   "version": "3.8.8"
  }
 },
 "nbformat": 4,
 "nbformat_minor": 5
}

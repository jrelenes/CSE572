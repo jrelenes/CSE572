{
 "cells": [
  {
   "cell_type": "code",
   "execution_count": 40,
   "id": "a48700ea-b96e-41df-9384-94c21714f0ca",
   "metadata": {},
   "outputs": [],
   "source": [
    "import pandas as pd\n",
    "import math\n",
    "import datetime\n",
    "from datetime import datetime\n",
    "from datetime import date\n",
    "from sklearn.decomposition import PCA\n",
    "from sklearn.svm import SVC\n",
    "from sklearn.model_selection import train_test_split\n",
    "import matplotlib.pyplot as plt\n",
    "from numpy import loadtxt\n",
    "from keras.models import Sequential\n",
    "from keras.layers import Dense\n",
    "import numpy as np\n",
    "import pickle\n"
   ]
  },
  {
   "cell_type": "code",
   "execution_count": 76,
   "id": "d27f41de-9e73-45e4-a713-d4d63f6accf7",
   "metadata": {},
   "outputs": [
    {
     "name": "stdout",
     "output_type": "stream",
     "text": [
      "(4000, 2)\n"
     ]
    }
   ],
   "source": [
    "mat_training_0 = loadtxt(\"Train1.txt\", delimiter=\"  \", unpack=False)\n",
    "mat_training_1 = loadtxt(\"Train2.txt\", delimiter=\"  \", unpack=False)\n",
    "mat_testing_0 = loadtxt(\"Test1.txt\", delimiter=\"  \", unpack=False)\n",
    "mat_testing_1 = loadtxt(\"Test2.txt\", delimiter=\"  \", unpack=False)\n",
    "\n",
    "#only has two features and can add more by concatenation and is to test a example model\n",
    "X_train = np.concatenate((mat_training_0,mat_training_1), axis=0)\n",
    "\n",
    "print(X_train.shape)\n",
    "X_test = np.concatenate((mat_testing_0,mat_testing_1), axis=0)"
   ]
  },
  {
   "cell_type": "code",
   "execution_count": 42,
   "id": "1fc32074-366e-4048-93c4-f434896cd202",
   "metadata": {},
   "outputs": [
    {
     "name": "stdout",
     "output_type": "stream",
     "text": [
      "[1 1 1 ... 2 2 2]\n"
     ]
    }
   ],
   "source": [
    "labels_0_tr = np.array([1]*mat_training_0.shape[0])\n",
    "labels_1_tr = np.array([2]*mat_training_1.shape[0])\n",
    "labels_0_te = np.array([1]*mat_testing_0.shape[0])\n",
    "labels_1_te = np.array([2]*mat_testing_1.shape[0])\n",
    "\n",
    "\n",
    "#the testing classes are grouped under one vector\n",
    "y_test = np.concatenate((labels_0_te,labels_1_te), axis=0)\n",
    "y_train = np.concatenate((labels_0_tr,labels_1_tr), axis=0)\n",
    "\n",
    "print(y_train)"
   ]
  },
  {
   "cell_type": "code",
   "execution_count": 43,
   "id": "a6765f09-1409-48bc-b59d-c1b87a6e122b",
   "metadata": {},
   "outputs": [
    {
     "name": "stdout",
     "output_type": "stream",
     "text": [
      "score 0.829\n"
     ]
    }
   ],
   "source": [
    "#  Data=[list1,list2]\n",
    "#  X = Data[0]\n",
    "#  y = Data[1],\n",
    "#X = [[0, 0], [1, 1]]\n",
    "#y = [0, 1] \n",
    "#y = [0,0,0,0,0]\n",
    "\n",
    "#X_train, X_test, y_train, y_test = train_test_split(X, y, test_size=.43, random_state=0)\n",
    "pca = PCA(n_components=2)# adjust yourself\n",
    "pca.fit(X_train)\n",
    "pca.fit(X_test)\n",
    "\n",
    "\n",
    "X_t_train = pca.transform(X_train)\n",
    "X_t_test = pca.transform(X_test)\n",
    "\n",
    "clf = SVC()\n",
    "clf.fit(X_t_train, y_train)\n",
    "print('score', clf.score(X_t_test, y_test))\n",
    "#print('pred label', clf.predict(X_t_test))\n",
    "\n",
    "with open ('model_pickle', 'wb') as filename:\n",
    "   pickle.dump(clf,filename)"
   ]
  },
  {
   "cell_type": "code",
   "execution_count": 44,
   "id": "7e4cd926-186c-4952-9427-88e49a9725d9",
   "metadata": {},
   "outputs": [],
   "source": [
    "with open ('model_pickle', 'rb') as filename:\n",
    "   modelRetrieved = pickle.load(filename)"
   ]
  },
  {
   "cell_type": "code",
   "execution_count": 45,
   "id": "190dad95-8506-4597-b4a1-104a590cda49",
   "metadata": {},
   "outputs": [
    {
     "name": "stdout",
     "output_type": "stream",
     "text": [
      "score 0.829\n"
     ]
    }
   ],
   "source": [
    "modelRetrieved.fit(X_t_train, y_train)\n",
    "print('score', modelRetrieved.score(X_t_test, y_test))"
   ]
  },
  {
   "cell_type": "code",
   "execution_count": 46,
   "id": "d05f0730-9c58-4090-a418-efb68a190316",
   "metadata": {},
   "outputs": [],
   "source": [
    "#model testing above works to 82% need to be tuned for new data with greater amount of columns\n",
    "#pca is performed and a sample model is trained and the model is saved as variable then retrieved"
   ]
  },
  {
   "cell_type": "code",
   "execution_count": null,
   "id": "cf10780c-3b96-4037-9eef-f4656087f1f2",
   "metadata": {},
   "outputs": [],
   "source": []
  },
  {
   "cell_type": "code",
   "execution_count": 47,
   "id": "97a59249-0960-441c-b0a8-1c56ec43d3ac",
   "metadata": {},
   "outputs": [],
   "source": [
    "#creating the matrix with labels below"
   ]
  },
  {
   "cell_type": "code",
   "execution_count": 48,
   "id": "3e3248d9-d71f-4653-b981-176e855932c0",
   "metadata": {},
   "outputs": [],
   "source": [
    "filename1 = pd.read_excel('CGMData670GPatient3.xlsx')\n",
    "filename2 = pd.read_excel('InsulinAndMealIntake670GPatient3.xlsx')"
   ]
  },
  {
   "cell_type": "code",
   "execution_count": 49,
   "id": "f79b0112-e924-453f-b0ba-dc329eab3d95",
   "metadata": {},
   "outputs": [],
   "source": [
    "#print(filename2.Index[0])\n",
    "CGMData_pre = []\n",
    "InsulinData_pre = []\n",
    "\n",
    "eatingBehavior = filename1['Sensor Glucose (mg/dL)'].to_numpy()\n",
    "ISIG = filename1['ISIG Value'].to_numpy()\n",
    "CGMDate = filename1['Date'].to_numpy()\n",
    "CGMTime = filename1['Time'].to_numpy()\n",
    "\n",
    "\n",
    "Eats =  filename2['BWZ Carb Input (grams)'].to_numpy()\n",
    "InsulinDate = filename2['Date'].to_numpy()\n",
    "InsulinTime = filename2['Time'].to_numpy()"
   ]
  },
  {
   "cell_type": "code",
   "execution_count": 50,
   "id": "c66a7a41-812a-45a1-a169-f0de8a15dad8",
   "metadata": {},
   "outputs": [],
   "source": [
    "InsulinTimeAfter = []\n",
    "for i in InsulinTime:\n",
    "    arr = []\n",
    "    arr.append(int(str(i).split(':',3)[0]))\n",
    "    arr.append(int(str(i).split(':',3)[1]))\n",
    "    arr.append(int(str(i).split(':',3)[2]))\n",
    "    InsulinTimeAfter.append(arr)\n",
    "    \n",
    "CGMTimeAfter = []\n",
    "for i in CGMTime:\n",
    "    arr = []\n",
    "    arr.append(int(str(i).split(':',3)[0]))\n",
    "    arr.append(int(str(i).split(':',3)[1]))\n",
    "    arr.append(int(str(i).split(':',3)[2]))\n",
    "    CGMTimeAfter.append(arr)\n",
    "\n",
    "\n",
    "InsulinDateAfter = []\n",
    "for i in InsulinDate:\n",
    "    arr = []\n",
    "    var = pd.to_datetime(i)\n",
    "    q= str(var).split()\n",
    "    arr.append(int(q[0].split('-',3)[0]))\n",
    "    arr.append(int(q[0].split('-',3)[1]))\n",
    "    arr.append(int(q[0].split('-',3)[2]))\n",
    "    InsulinDateAfter.append(arr)\n",
    "    \n",
    "    \n",
    "CGMDateAfter = []\n",
    "for i in CGMDate:\n",
    "    arr = []\n",
    "    var = pd.to_datetime(i)\n",
    "    q= str(var).split()\n",
    "    arr.append(int(q[0].split('-',3)[0]))\n",
    "    arr.append(int(q[0].split('-',3)[1]))\n",
    "    arr.append(int(q[0].split('-',3)[2]))\n",
    "    CGMDateAfter.append(arr)\n",
    "\n"
   ]
  },
  {
   "cell_type": "code",
   "execution_count": 51,
   "id": "a2f0c7fc-df14-40d7-95d8-ea140f860192",
   "metadata": {},
   "outputs": [
    {
     "name": "stdout",
     "output_type": "stream",
     "text": [
      "[2018, 3, 7]\n",
      "[2018, 3, 7]\n"
     ]
    }
   ],
   "source": [
    "print(CGMDateAfter[0])\n",
    "print(InsulinDateAfter[0])"
   ]
  },
  {
   "cell_type": "code",
   "execution_count": 52,
   "id": "99f98ec5-592f-48bb-9ef1-51cac1b5c3ca",
   "metadata": {},
   "outputs": [],
   "source": [
    "DateandTime = []\n",
    "for i in range(0, len(InsulinDateAfter),1):\n",
    "    arr = []\n",
    "    arr.append(InsulinDateAfter[i])\n",
    "    arr.append(InsulinTimeAfter[i])\n",
    "    DateandTime.append(arr)\n",
    "    \n",
    "    \n",
    "CGMDateandTime = []\n",
    "for i in range(0, len(CGMDateAfter),1):\n",
    "    arr = []\n",
    "    arr.append(CGMDateAfter[i])\n",
    "    arr.append(CGMTimeAfter[i])\n",
    "    CGMDateandTime.append(arr)"
   ]
  },
  {
   "cell_type": "code",
   "execution_count": 53,
   "id": "92566862-81d1-4fa7-a86d-42488c5486a8",
   "metadata": {},
   "outputs": [
    {
     "name": "stdout",
     "output_type": "stream",
     "text": [
      "[[2018, 3, 7], [11, 36, 15]]\n",
      "[[2018, 3, 7], [11, 30, 48]]\n"
     ]
    }
   ],
   "source": [
    "print(DateandTime[0])\n",
    "print(CGMDateandTime[0])"
   ]
  },
  {
   "cell_type": "code",
   "execution_count": 54,
   "id": "6c3522ac-0e6d-4ad0-a6c6-22d52c20b615",
   "metadata": {},
   "outputs": [],
   "source": [
    "DateAndFood = []\n",
    "for i in range(0, len(DateandTime),1):\n",
    "    arr = []\n",
    "    arr.append(DateandTime[i])\n",
    "    arr.append(Eats[i])\n",
    "    DateAndFood.append(arr)\n",
    "    \n",
    "DateAndFood = DateAndFood[::-1]\n",
    "\n",
    "\n",
    "CGMDateAndFood = []\n",
    "for i in range(0, len(CGMDateandTime),1):\n",
    "    arr = []\n",
    "    arr.append(CGMDateandTime[i])\n",
    "    arr.append(eatingBehavior[i])\n",
    "    arr.append(ISIG[i])\n",
    "    CGMDateAndFood.append(arr)\n",
    "    \n",
    "CGMDateAndFood = CGMDateAndFood[::-1]"
   ]
  },
  {
   "cell_type": "code",
   "execution_count": 55,
   "id": "8b9fc32a-747f-4fdc-a597-c862f41eb37b",
   "metadata": {},
   "outputs": [
    {
     "name": "stdout",
     "output_type": "stream",
     "text": [
      "[[[2017, 9, 5], [8, 25, 33]], nan]\n",
      "[[[2017, 9, 5], [10, 46, 21]], 182.0, 30.61]\n"
     ]
    }
   ],
   "source": [
    "print(DateAndFood[0])\n",
    "print(CGMDateAndFood[0])"
   ]
  },
  {
   "cell_type": "code",
   "execution_count": null,
   "id": "7b5a25cc-4439-425a-a0dd-eb701da61114",
   "metadata": {},
   "outputs": [],
   "source": []
  },
  {
   "cell_type": "code",
   "execution_count": null,
   "id": "ff666bec-6473-47bb-8d53-c36de8a2f29c",
   "metadata": {},
   "outputs": [],
   "source": []
  },
  {
   "cell_type": "code",
   "execution_count": 56,
   "id": "7f46ab22-897a-43ed-be99-77b332e0d867",
   "metadata": {},
   "outputs": [],
   "source": [
    "DataClean = []\n",
    "for i in DateAndFood:\n",
    "    arr = []\n",
    "    empty = math.isnan(i[1])\n",
    "    if i[1] > 0 and empty == False:\n",
    "        arr.append(i[0])\n",
    "        arr.append(i[1])  \n",
    "        DataClean.append(arr)"
   ]
  },
  {
   "cell_type": "code",
   "execution_count": 57,
   "id": "f21905cf-892b-4129-9113-00c66764782d",
   "metadata": {},
   "outputs": [],
   "source": [
    "#data has been processed"
   ]
  },
  {
   "cell_type": "code",
   "execution_count": 58,
   "id": "23f43440-1fd8-4c82-90d9-eb371bc38805",
   "metadata": {},
   "outputs": [],
   "source": [
    "def separateDate(Data,CGM,meal,noMeal,memoize,position):\n",
    "    \n",
    "    diff_in_hours = 0\n",
    "    index = 0\n",
    "        \n",
    "    lowerYear = Data[0][0]\n",
    "    lowerMonth = Data[0][1]\n",
    "    lowerDay = Data[0][2]\n",
    "    \n",
    "        \n",
    "    lowerHour = Data[1][0]\n",
    "    lowerMinute = Data[1][1]\n",
    "    lowerSecond = Data[1][2]\n",
    "    \n",
    "    date_1 = str(lowerDay) + '/'+ str(lowerMonth) +'/'+ str(lowerYear) + ' ' +str(lowerHour)+':'+ str(lowerMinute)+':'+ str(lowerSecond)\n",
    "    date_format_str = '%d/%m/%Y %H:%M:%S'\n",
    "    start = datetime.strptime(date_1, date_format_str)\n",
    "    \n",
    "    \n",
    "    empty = False \n",
    "    considerStretch = False\n",
    "    memoizationValue = False\n",
    "    \n",
    "    for i in range(memoize, len(CGM), 1):\n",
    "        \n",
    "        ########################################################################3\n",
    "        positionYear = position[0][0]\n",
    "        positionMonth = position[0][1]\n",
    "        positionDay = position[0][2]\n",
    "\n",
    "\n",
    "        positionHour = position[1][0]\n",
    "        positionMinute = position[1][1]\n",
    "        positionSecond = position[1][2]\n",
    "\n",
    "        date_3 = str(positionDay) + '/'+ str(positionMonth) +'/'+ str(positionYear) + ' ' +str(positionHour)+':'+ str(positionMinute)+':'+ str(positionSecond)\n",
    "        memoizationDate = datetime.strptime(date_3, date_format_str)\n",
    "        \n",
    "        \n",
    "        \n",
    "        \n",
    "        ##########################################################################\n",
    "        \n",
    "        upperYear = CGM[i][0][0][0]\n",
    "        upperMonth = CGM[i][0][0][1]\n",
    "        upperDay = CGM[i][0][0][2]\n",
    "\n",
    "        upperHour = CGM[i][0][1][0]\n",
    "        upperMinute = CGM[i][0][1][1]\n",
    "        upperSecond = CGM[i][0][1][2]\n",
    "\n",
    "        date_2 = str(upperDay) + '/'+ str(upperMonth) +'/'+ str(upperYear) + ' ' +str(upperHour)+':'+ str(upperMinute)+':'+ str(upperSecond)\n",
    "\n",
    "        end =   datetime.strptime(date_2, date_format_str)\n",
    "        # Get interval between two timstamps as timedelta object\n",
    "        \n",
    "        \n",
    "        diff = end - start\n",
    "        # Get interval between two timstamps in hours\n",
    "        diff_in_hours = diff.total_seconds() / 3600\n",
    "\n",
    "        #############################################################################\n",
    "        if diff_in_hours >= 0 and diff_in_hours < 2:\n",
    "            temp = math.isnan(CGM[i][1])\n",
    "            if temp == True:\n",
    "                empty = True\n",
    "        \n",
    "        \n",
    "        if diff_in_hours >= 2 and diff_in_hours <= 4 and empty == True:\n",
    "            noMeal.append(CGM[i])\n",
    "            \n",
    "        if diff_in_hours >= 0 and diff_in_hours < 2 and empty == True:\n",
    "            meal.append(CGM[i])\n",
    "            \n",
    "        if diff_in_hours >= 0 and diff_in_hours < 2 and empty == False:\n",
    "            considerStretch = True\n",
    "            \n",
    "        if diff_in_hours >= 1.5 and diff_in_hours <= 4 and considerStretch == True:\n",
    "            meal.append(CGM[i])\n",
    "            \n",
    "            \n",
    "        if end >= memoizationDate:\n",
    "            index = i - 1\n",
    "            break\n",
    "            \n",
    "\n",
    "\n",
    "            \n",
    "    return int(index)\n",
    "           \n",
    "           \n",
    "\n",
    "        "
   ]
  },
  {
   "cell_type": "code",
   "execution_count": 59,
   "id": "5bfcb3a8-c7db-4e93-92c3-27894040d365",
   "metadata": {},
   "outputs": [
    {
     "name": "stdout",
     "output_type": "stream",
     "text": [
      "424\n",
      "33248\n"
     ]
    }
   ],
   "source": [
    "print(len(DataClean))\n",
    "print(len(CGMDateAndFood))"
   ]
  },
  {
   "cell_type": "code",
   "execution_count": 60,
   "id": "8f4d31f5-43d0-4829-80f6-f6cdc5ffa59c",
   "metadata": {},
   "outputs": [],
   "source": [
    "meal = []\n",
    "noMeal = []\n",
    "memoize = 0\n",
    "\n",
    "for i in range(0, len(DataClean), 1):\n",
    "    \n",
    "    if i < len(DataClean) - 1:\n",
    "        memoize = separateDate(DataClean[i][0],CGMDateAndFood,meal,noMeal, memoize, DataClean[i+1][0])"
   ]
  },
  {
   "cell_type": "code",
   "execution_count": 93,
   "id": "39c9d221-4b7b-44b6-9743-c221247564bc",
   "metadata": {},
   "outputs": [
    {
     "name": "stdout",
     "output_type": "stream",
     "text": [
      "10478\n",
      "986\n",
      "[[[2017, 9, 5], [14, 46, 21]], 160.0, 34.55]\n"
     ]
    }
   ],
   "source": [
    "print(len(meal))\n",
    "print(len(noMeal))\n",
    "print(meal[0])\n",
    "\n",
    "array = []\n",
    "for i in meal:\n",
    "    temp = math.isnan(i[1])\n",
    "    temp1 = math.isnan(i[2])\n",
    "\n",
    "    if temp == False and temp1 == False:\n",
    "        arr = []\n",
    "        arr.append(i[1])\n",
    "        arr.append(i[2])\n",
    "        array.append(arr)\n",
    "    \n",
    "    \n",
    "array1 = []\n",
    "for i in noMeal:\n",
    "    temp = math.isnan(i[1])\n",
    "    temp1 = math.isnan(i[2])\n",
    "\n",
    "    if temp == False and temp1 == False:\n",
    "        arr = []\n",
    "        arr.append(i[1])\n",
    "        arr.append(i[2])\n",
    "        array1.append(arr)\n",
    "\n",
    "    \n",
    "\n",
    "    "
   ]
  },
  {
   "cell_type": "code",
   "execution_count": 136,
   "id": "86695546-97bd-4078-8b7a-6042d3ec3056",
   "metadata": {},
   "outputs": [
    {
     "data": {
      "image/png": "[encoded data removed]",
      "text/plain": [
       "<Figure size 432x288 with 1 Axes>"
      ]
     },
     "metadata": {
      "needs_background": "light"
     },
     "output_type": "display_data"
    },
    {
     "data": {
      "image/png": "[encoded data removed]",
      "text/plain": [
       "<Figure size 432x288 with 1 Axes>"
      ]
     },
     "metadata": {
      "needs_background": "light"
     },
     "output_type": "display_data"
    }
   ],
   "source": [
    "import matplotlib.pyplot as plt\n",
    "plt.plot(range(len(array)),array)\n",
    "\n",
    "plt.show()\n",
    "plt.plot(range(len(array1)),array1)\n",
    "plt.show()\n"
   ]
  },
  {
   "cell_type": "code",
   "execution_count": 135,
   "id": "e2e49e71-95b7-4835-b81b-2c2d5a121851",
   "metadata": {},
   "outputs": [],
   "source": [
    "#print(var)"
   ]
  },
  {
   "cell_type": "code",
   "execution_count": 126,
   "id": "dfed105c-c008-4df8-b000-04d6388b46f1",
   "metadata": {},
   "outputs": [
    {
     "name": "stdout",
     "output_type": "stream",
     "text": [
      "False\n",
      "False\n"
     ]
    }
   ],
   "source": [
    "array = np.array(array)\n",
    "array1 = np.array(array1)\n",
    "\n",
    "print(np.any(np.isnan(array)))\n",
    "print(np.any(np.isnan(array1)))\n",
    "\n",
    "X_train = np.concatenate((array,array1), axis=0)\n",
    "\n",
    "\n",
    "labels_0_tr = np.array([1]*array.shape[0])\n",
    "labels_1_tr = np.array([2]*array1.shape[0])\n",
    "\n",
    "#the testing classes are grouped under one vector\n",
    "y_train = np.concatenate((labels_0_tr,labels_1_tr), axis=0)\n"
   ]
  },
  {
   "cell_type": "code",
   "execution_count": 137,
   "id": "c6775ade-ae39-4132-b268-64b0b7d72c7c",
   "metadata": {},
   "outputs": [
    {
     "name": "stdout",
     "output_type": "stream",
     "text": [
      "(1139, 2)\n",
      "[2 1 1 2 1 1 1 1 2 1 1 1 1 1 1 1 1 1 1 1 1 1 1 1 1 1 1 1 1 1 1 1 2 1 1 1 1\n",
      " 1 1 1 1 1 1 1 1 1 1 1 1 1 1 1 1 1 1 1 1 1 1 1 1 1 1 1 1 1 1 1 1 1 1 1 2 1\n",
      " 1 1 1 1 1 1 1 1 1 1 1 1 1 1 1 1 2 1 1 1 1 1 1 1 2 2 1 1 1 1 1 1 1 1 1 1 1\n",
      " 1 1 1 1 1 1 1 1 1 2 1 1 1 1 1 1 2 1 1 1 1 1 1 1 1 1 1 1 1 1 1 1 1 1 1 1 1\n",
      " 1 1 1 1 1 1 1 1 1 1 1 2 1 1 1 1 1 1 1 1 1 1 1 1 1 1 1 1 1 1 1 1 1 1 1 1 1\n",
      " 1 1 1 1 1 1 1 1 1 1 1 1 1 1 1 1 1 1 1 1 1 1 1 1 1 1 1 1 1 1 1 1 1 1 1 1 1\n",
      " 1 1 1 1 1 1 1 1 1 1 1 1 1 2 1 1 1 1 1 1 2 1 1 1 1 1 1 1 1 1 1 1 1 1 1 1 1\n",
      " 1 2 1 1 1 1 1 1 2 1 1 1 1 1 1 1 1 1 1 1 1 1 1 1 1 1 1 2 1 1 1 1 1 1 1 1 1\n",
      " 1 1 1 1 1 1 1 1 1 1 1 1 1 1 1 1 1 1 1 1 1 1 1 1 2 1 1 1 1 1 1 1 1 1 1 1 1\n",
      " 1 1 1 1 1 1 1 1 1 2 1 1 1 1 1 1 1 1 1 2 1 1 1 2 1 1 1 1 1 1 1 1 1 1 1 1 1\n",
      " 1 1 1 1 1 1 1 1 1 1]\n",
      "score 0.9473684210526315\n",
      "pred label [1 1 1 1 1 1 1 1 1 1 1 1 1 1 1 1 1 1 1 1 1 1 1 1 1 1 1 1 1 1 1 1 1 1 1 1 1\n",
      " 1 1 1 1 1 1 1 1 1 1 1 1 1 1 1 1 1 1 1 1 1 1 1 1 1 1 1 1 1 1 1 1 1 1 1 1 1\n",
      " 1 1 1 1 1 1 1 1 1 1 1 1 1 1 1 1 1 1 1 1 1 1 1 1 1 1 1 1 1 1 1 1 1 1 1 1 1\n",
      " 1 1 1 1 1 1 1 1 1 1 1 1 1 1 1 1 1 1 1 1 1 1 1 1 1 1 1 1 1 1 1 1 1 1 1 1 1\n",
      " 1 1 1 1 1 1 1 1 1 1 1 1 1 1 1 1 1 1 1 1 1 1 1 1 1 1 1 1 1 1 1 1 1 1 1 1 1\n",
      " 1 1 1 1 1 1 1 1 1 1 1 1 1 1 1 1 1 1 1 1 1 1 1 1 1 1 1 1 1 1 1 1 1 1 1 1 1\n",
      " 1 1 1 1 1 1 1 1 1 1 1 1 1 1 1 1 1 1 1 1 1 1 1 1 1 1 1 1 1 1 1 1 1 1 1 1 1\n",
      " 1 1 1 1 1 1 1 1 1 1 1 1 1 1 1 1 1 1 1 1 1 1 1 1 1 1 1 1 1 1 1 1 1 1 1 1 1\n",
      " 1 1 1 1 1 1 1 1 1 1 1 1 1 1 1 1 1 1 1 1 1 1 1 1 1 1 1 1 1 1 1 1 1 1 1 1 1\n",
      " 1 1 1 1 1 1 1 1 1 1 1 1 1 1 1 1 1 1 1 1 1 1 1 1 1 1 1 1 1 1 1 1 1 1 1 1 1\n",
      " 1 1 1 1 1 1 1 1 1 1]\n"
     ]
    }
   ],
   "source": [
    "X_train, X_test, y_train, y_test = train_test_split(X_train, y_train, test_size=.25)\n",
    "\n",
    "print(X_train.shape)\n",
    "\n",
    "pca = PCA(n_components=2)# adjust yourself\n",
    "pca.fit(X_train)\n",
    "\n",
    "pca.fit(X_test)\n",
    "\n",
    "\n",
    "X_t_train = pca.transform(X_train)\n",
    "X_t_test = pca.transform(X_test)\n",
    "\n",
    "clf = SVC()\n",
    "print(y_test)\n",
    "clf.fit(X_t_train, y_train)\n",
    "print('score', clf.score(X_t_test, y_test))\n",
    "print('pred label', clf.predict(X_t_test))\n"
   ]
  },
  {
   "cell_type": "code",
   "execution_count": null,
   "id": "95a7dcdd-25ad-49c2-b822-e583d100cf75",
   "metadata": {},
   "outputs": [],
   "source": []
  },
  {
   "cell_type": "code",
   "execution_count": null,
   "id": "bc6b35ff-4ab7-4ad3-b08f-b8a71f3dac3d",
   "metadata": {},
   "outputs": [],
   "source": []
  }
 ],
 "metadata": {
  "kernelspec": {
   "display_name": "Python 3",
   "language": "python",
   "name": "python3"
  },
  "language_info": {
   "codemirror_mode": {
    "name": "ipython",
    "version": 3
   },
   "file_extension": ".py",
   "mimetype": "text/x-python",
   "name": "python",
   "nbconvert_exporter": "python",
   "pygments_lexer": "ipython3",
   "version": "3.8.8"
  }
 },
 "nbformat": 4,
 "nbformat_minor": 5
}
